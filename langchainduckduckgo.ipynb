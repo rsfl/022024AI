{
 "cells": [
  {
   "cell_type": "code",
   "execution_count": 1,
   "id": "290f65a6",
   "metadata": {},
   "outputs": [
    {
     "name": "stderr",
     "output_type": "stream",
     "text": [
      "/home/trajan/.local/lib/python3.10/site-packages/langchain_community/utilities/duckduckgo_search.py:47: UserWarning: DDGS running in an async loop. This may cause errors. Use AsyncDDGS instead.\n",
      "  with DDGS() as ddgs:\n"
     ]
    },
    {
     "data": {
      "text/plain": [
       "'HackMiami is a dynamic and innovative community of cybersecurity enthusiasts and experts, dedicated to exploring the cutting edge of information security. --== HackMiami XI ==--Training Sessions: May 15 - 17, 2024 Conference Date: May 18, 2024 CFP Open Date: August 1, 2023 Pre-sale Starts: September 1, 2023 Location: Marenas Beach Resort @ Sunny Isles Beach Address: 18683 Collins Avenue, Sunny Isles Beach, FL 33160 %27. Follow @HackMiami on Twitter for latest updates. HackMiami 2023 HackMiami X 2023 Conference will consist of training classes on May 19, 2023 and speaking tracks on Saturday May 20, 2023. Training Sessions - We are accepting proposals for paid training courses taking place on May 19, 2023. Cyber Security Hackmiami X By HackMiami Overall Rating In-Person Sunny Isles Beach, FL, United States May 19, 2023 - May 20, 2023 Event Link https://hackmiami.com/ About Event HackMiami X 2023 Conference will consist of training classes on May 19, 2023 and speaking tracks on Saturday May 20, 2023. Hackmiami XI Conference early bird is now OPEN, including general admission and training. Also CFP is open for talks and trainings @ info@hackmiami.com...'"
      ]
     },
     "execution_count": 1,
     "metadata": {},
     "output_type": "execute_result"
    }
   ],
   "source": [
    "from langchain.tools import DuckDuckGoSearchRun\n",
    "search = DuckDuckGoSearchRun()\n",
    "search.run(\"What is Hackmiami\")"
   ]
  },
  {
   "cell_type": "code",
   "execution_count": null,
   "id": "7e431b9f",
   "metadata": {},
   "outputs": [],
   "source": []
  }
 ],
 "metadata": {
  "kernelspec": {
   "display_name": "Python 3 (ipykernel)",
   "language": "python",
   "name": "python3"
  },
  "language_info": {
   "codemirror_mode": {
    "name": "ipython",
    "version": 3
   },
   "file_extension": ".py",
   "mimetype": "text/x-python",
   "name": "python",
   "nbconvert_exporter": "python",
   "pygments_lexer": "ipython3",
   "version": "3.10.12"
  }
 },
 "nbformat": 4,
 "nbformat_minor": 5
}
