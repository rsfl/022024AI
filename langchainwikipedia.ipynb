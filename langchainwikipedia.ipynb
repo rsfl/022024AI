{
 "cells": [
  {
   "cell_type": "code",
   "execution_count": 1,
   "id": "c154512a",
   "metadata": {},
   "outputs": [
    {
     "name": "stdout",
     "output_type": "stream",
     "text": [
      "\u001b[33mWARNING: You are using pip version 21.2.4; however, version 24.0 is available.\n",
      "You should consider upgrading via the '/usr/bin/python3 -m pip install --upgrade pip' command.\u001b[0m\n",
      "Note: you may need to restart the kernel to use updated packages.\n"
     ]
    }
   ],
   "source": [
    "%pip install --upgrade --quiet  wikipedia\n"
   ]
  },
  {
   "cell_type": "code",
   "execution_count": 1,
   "id": "7b4f982c",
   "metadata": {},
   "outputs": [
    {
     "data": {
      "text/plain": [
       "\"Page: HackMiami\\nSummary: HackMiami is a formal organization of information security professionals who host the annual international hacker conference that takes place in Miami Beach, FL known as the 'HackMiami Conference.'The organization has been involved in research primarily in the fields of malware analysis, botnets, web application security research, cybercrime research, and network security research.\\nThe organization also organizes bi-weekly local events themed around ethical hacking topics throughout South Florida, and offer information security consultation services to both individuals and businesses.\\n\\n\\n\\nPage: Alexander Heid\\nSummary: Alexander Heid is an American computer security consultant, white hat hacker, and business executive.\\nHeid is a co-founder of the South Florida hacker conference and hacker group known as HackMiami, and currently serves as the chief research officer of the New York City information security firm SecurityScorecard.\\n\\nPage: Computer security conference\\nSummary: A computer security conference is a convention for individuals involved in computer security. They generally serve as meeting places for system and network administrators, hackers, and computer security experts.\\n\\n\""
      ]
     },
     "execution_count": 1,
     "metadata": {},
     "output_type": "execute_result"
    }
   ],
   "source": [
    "from langchain.tools import WikipediaQueryRun\n",
    "from langchain_community.utilities import WikipediaAPIWrapper\n",
    "wikipedia = WikipediaQueryRun(api_wrapper=WikipediaAPIWrapper())\n",
    "wikipedia.run(\"Hackmiami\")"
   ]
  },
  {
   "cell_type": "code",
   "execution_count": null,
   "id": "a5ac08f1",
   "metadata": {},
   "outputs": [],
   "source": []
  }
 ],
 "metadata": {
  "kernelspec": {
   "display_name": "Python 3 (ipykernel)",
   "language": "python",
   "name": "python3"
  },
  "language_info": {
   "codemirror_mode": {
    "name": "ipython",
    "version": 3
   },
   "file_extension": ".py",
   "mimetype": "text/x-python",
   "name": "python",
   "nbconvert_exporter": "python",
   "pygments_lexer": "ipython3",
   "version": "3.10.12"
  }
 },
 "nbformat": 4,
 "nbformat_minor": 5
}
